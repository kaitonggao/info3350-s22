{
 "cells": [
  {
   "cell_type": "markdown",
   "metadata": {
    "id": "0uTm1oCtkUch"
   },
   "source": [
    "# INFO 3350/6350\n",
    "\n",
    "## Lecture 02(a): Python refresher\n",
    "\n",
    "## To do:\n",
    "\n",
    "* Section on Friday (required)\n",
    "  * Introductions, setup, and HW 01\n",
    "* Readings for next week (see schedule on GitHub). Expect to spend several hours on these every week.\n",
    "* Remaining from lecture 01:\n",
    "  * Introductions\n",
    "  * How to ask good questions, and where to ask them\n",
    "\n",
    "## The Jupyter notebook system\n",
    "\n",
    "First, activate your virtual environment, then start `jupyter lab`. *In Jupyter Lab*, open the notebook(s) you want.\n",
    "\n",
    "![Jupyter system schematic](https://docs.jupyter.org/en/latest/_images/notebook_components.png)\n",
    "\n",
    "[Source](https://docs.jupyter.org/en/latest/projects/architecture/content-architecture.html)\n",
    "\n",
    "## Environments and data types\n",
    "\n",
    "Underlying every computer program is an *environment*, which maps variable names to values.\n",
    "\n",
    "This environment starts out empty. We can add to it by defining a variable."
   ]
  },
  {
   "cell_type": "code",
   "execution_count": 1,
   "metadata": {
    "id": "a0SjFsHDkUcj"
   },
   "outputs": [],
   "source": [
    "x = 3"
   ]
  },
  {
   "cell_type": "markdown",
   "metadata": {
    "id": "lL7TrmLEkUck"
   },
   "source": [
    "## Magics\n",
    "\n",
    "Magics are special commands that work **in notebooks**, but **not Python in general**. Magics always start with `%`.\n",
    "\n",
    "What's defined in our environment?"
   ]
  },
  {
   "cell_type": "code",
   "execution_count": 2,
   "metadata": {
    "id": "65xBpa1zkUck"
   },
   "outputs": [
    {
     "name": "stdout",
     "output_type": "stream",
     "text": [
      "x\t \n"
     ]
    }
   ],
   "source": [
    "# list variable names\n",
    "%who"
   ]
  },
  {
   "cell_type": "code",
   "execution_count": 3,
   "metadata": {
    "id": "gTF3SBUakUck"
   },
   "outputs": [
    {
     "name": "stdout",
     "output_type": "stream",
     "text": [
      "Variable   Type    Data/Info\n",
      "----------------------------\n",
      "x          int     3\n"
     ]
    }
   ],
   "source": [
    "# list variable names/types/values\n",
    "%whos"
   ]
  },
  {
   "cell_type": "markdown",
   "metadata": {
    "id": "hVM--zt8kUcl"
   },
   "source": [
    "FYI, in pure Python, you'd use `dir()` or `locals()` ..."
   ]
  },
  {
   "cell_type": "code",
   "execution_count": 4,
   "metadata": {},
   "outputs": [
    {
     "data": {
      "text/plain": [
       "{'__name__': '__main__',\n",
       " '__doc__': 'Automatically created module for IPython interactive environment',\n",
       " '__package__': None,\n",
       " '__loader__': None,\n",
       " '__spec__': None,\n",
       " '__builtin__': <module 'builtins' (built-in)>,\n",
       " '__builtins__': <module 'builtins' (built-in)>,\n",
       " '_ih': ['',\n",
       "  'x = 3',\n",
       "  \"# list variable names\\nget_ipython().run_line_magic('who', '')\",\n",
       "  \"# list variable names/types/values\\nget_ipython().run_line_magic('whos', '')\",\n",
       "  'locals()'],\n",
       " '_oh': {},\n",
       " '_dh': [PosixPath('/Users/mwilkens/Documents/Code/info3350-s22/lectures')],\n",
       " 'In': ['',\n",
       "  'x = 3',\n",
       "  \"# list variable names\\nget_ipython().run_line_magic('who', '')\",\n",
       "  \"# list variable names/types/values\\nget_ipython().run_line_magic('whos', '')\",\n",
       "  'locals()'],\n",
       " 'Out': {},\n",
       " 'get_ipython': <bound method InteractiveShell.get_ipython of <ipykernel.zmqshell.ZMQInteractiveShell object at 0x107b491b0>>,\n",
       " 'exit': <IPython.core.autocall.ZMQExitAutocall at 0x107b4ba60>,\n",
       " 'quit': <IPython.core.autocall.ZMQExitAutocall at 0x107b4ba60>,\n",
       " '_': '',\n",
       " '__': '',\n",
       " '___': '',\n",
       " '_i': '# list variable names/types/values\\n%whos',\n",
       " '_ii': '# list variable names\\n%who',\n",
       " '_iii': 'x = 3',\n",
       " '_i1': 'x = 3',\n",
       " 'x': 3,\n",
       " '_i2': '# list variable names\\n%who',\n",
       " '_i3': '# list variable names/types/values\\n%whos',\n",
       " '_i4': 'locals()'}"
      ]
     },
     "execution_count": 4,
     "metadata": {},
     "output_type": "execute_result"
    }
   ],
   "source": [
    "locals()"
   ]
  },
  {
   "cell_type": "markdown",
   "metadata": {
    "id": "hVM--zt8kUcl"
   },
   "source": [
    "A single percent sign runs the magic on a single line. Double percents (`%%`) attaches the magic to the whole cell.\n",
    "\n",
    "Try some other magics, especially ones useful for dev and debugging: `%%time`, `%%prun`"
   ]
  },
  {
   "cell_type": "code",
   "execution_count": 5,
   "metadata": {},
   "outputs": [
    {
     "name": "stdout",
     "output_type": "stream",
     "text": [
      "hello, world!\n",
      "hello, world!\n",
      "hello, world!\n",
      "CPU times: user 5.59 ms, sys: 2.3 ms, total: 7.88 ms\n",
      "Wall time: 3.01 s\n"
     ]
    }
   ],
   "source": [
    "%%time\n",
    "import time\n",
    "for i in range(3):\n",
    "    print('hello, world!')\n",
    "    time.sleep(1)"
   ]
  },
  {
   "cell_type": "code",
   "execution_count": 6,
   "metadata": {},
   "outputs": [
    {
     "name": "stdout",
     "output_type": "stream",
     "text": [
      "Variable   Type      Data/Info\n",
      "------------------------------\n",
      "i          int       2\n",
      "time       module    <module 'time' (built-in)>\n",
      "x          int       3\n"
     ]
    }
   ],
   "source": [
    "%whos"
   ]
  },
  {
   "cell_type": "markdown",
   "metadata": {
    "id": "Fkm3c-o9kUcl"
   },
   "source": [
    "## More variables, more types"
   ]
  },
  {
   "cell_type": "code",
   "execution_count": 7,
   "metadata": {
    "id": "8GszT3kskUcl"
   },
   "outputs": [
    {
     "data": {
      "text/plain": [
       "tuple"
      ]
     },
     "execution_count": 7,
     "metadata": {},
     "output_type": "execute_result"
    }
   ],
   "source": [
    "# examine the type of a literal or a variable\n",
    "type((1,2))"
   ]
  },
  {
   "cell_type": "code",
   "execution_count": 8,
   "metadata": {},
   "outputs": [
    {
     "data": {
      "text/plain": [
       "int"
      ]
     },
     "execution_count": 8,
     "metadata": {},
     "output_type": "execute_result"
    }
   ],
   "source": [
    "type(3)"
   ]
  },
  {
   "cell_type": "code",
   "execution_count": 9,
   "metadata": {},
   "outputs": [
    {
     "data": {
      "text/plain": [
       "float"
      ]
     },
     "execution_count": 9,
     "metadata": {},
     "output_type": "execute_result"
    }
   ],
   "source": [
    "type(3.)"
   ]
  },
  {
   "cell_type": "code",
   "execution_count": 10,
   "metadata": {},
   "outputs": [
    {
     "data": {
      "text/plain": [
       "int"
      ]
     },
     "execution_count": 10,
     "metadata": {},
     "output_type": "execute_result"
    }
   ],
   "source": [
    "type(x)"
   ]
  },
  {
   "cell_type": "code",
   "execution_count": 11,
   "metadata": {},
   "outputs": [
    {
     "data": {
      "text/plain": [
       "str"
      ]
     },
     "execution_count": 11,
     "metadata": {},
     "output_type": "execute_result"
    }
   ],
   "source": [
    "type('shakespeare')"
   ]
  },
  {
   "cell_type": "code",
   "execution_count": 12,
   "metadata": {
    "id": "CjBpc-PmkUcm"
   },
   "outputs": [
    {
     "data": {
      "text/plain": [
       "dict"
      ]
     },
     "execution_count": 12,
     "metadata": {},
     "output_type": "execute_result"
    }
   ],
   "source": [
    "# a dictionary\n",
    "book_dict =  {\n",
    "    'author': ['Shakespeare', 'Morrison', 'Bolaño'],\n",
    "    'title': ['King Lear', 'Beloved', '2666'],\n",
    "    'year': [1606, 1987, 2004],\n",
    "    'words': [10000, 100000, 300000]\n",
    "}\n",
    "type(book_dict)"
   ]
  },
  {
   "cell_type": "code",
   "execution_count": 13,
   "metadata": {
    "id": "9tno8IlvkUcm"
   },
   "outputs": [
    {
     "data": {
      "text/plain": [
       "['Shakespeare', 'Morrison', 'Bolaño']"
      ]
     },
     "execution_count": 13,
     "metadata": {},
     "output_type": "execute_result"
    }
   ],
   "source": [
    "# retrieve dictionary content by key\n",
    "book_dict['author']"
   ]
  },
  {
   "cell_type": "markdown",
   "metadata": {
    "id": "pS85TLQlkUcn"
   },
   "source": [
    "Note that the line above returns a list. You can operate on `book_dict['author']` *as a list*. This tends to confuse people."
   ]
  },
  {
   "cell_type": "code",
   "execution_count": 14,
   "metadata": {
    "id": "5Yv5klTekUcn"
   },
   "outputs": [
    {
     "data": {
      "text/plain": [
       "'Morrison'"
      ]
     },
     "execution_count": 14,
     "metadata": {},
     "output_type": "execute_result"
    }
   ],
   "source": [
    "# index into returned object\n",
    "book_dict['author'][1]"
   ]
  },
  {
   "cell_type": "markdown",
   "metadata": {
    "id": "QdMG46nlkUcn"
   },
   "source": [
    "Strings are indexable, too ..."
   ]
  },
  {
   "cell_type": "code",
   "execution_count": 15,
   "metadata": {
    "id": "0XaSgMZykUcn"
   },
   "outputs": [
    {
     "data": {
      "text/plain": [
       "'r'"
      ]
     },
     "execution_count": 15,
     "metadata": {},
     "output_type": "execute_result"
    }
   ],
   "source": [
    "book_dict['author'][1][2]"
   ]
  },
  {
   "cell_type": "code",
   "execution_count": 16,
   "metadata": {
    "id": "DRDTKIl6kUcn"
   },
   "outputs": [
    {
     "name": "stdout",
     "output_type": "stream",
     "text": [
      "Variable    Type      Data/Info\n",
      "-------------------------------\n",
      "book_dict   dict      n=4\n",
      "i           int       2\n",
      "time        module    <module 'time' (built-in)>\n",
      "x           int       3\n"
     ]
    }
   ],
   "source": [
    "%whos"
   ]
  },
  {
   "cell_type": "code",
   "execution_count": 17,
   "metadata": {
    "id": "hW6nVkJ2kUco"
   },
   "outputs": [],
   "source": [
    "y = 5"
   ]
  },
  {
   "cell_type": "code",
   "execution_count": 18,
   "metadata": {
    "id": "8V2qrOqdkUco"
   },
   "outputs": [
    {
     "name": "stdout",
     "output_type": "stream",
     "text": [
      "Variable    Type      Data/Info\n",
      "-------------------------------\n",
      "book_dict   dict      n=4\n",
      "i           int       2\n",
      "time        module    <module 'time' (built-in)>\n",
      "x           int       3\n",
      "y           int       5\n"
     ]
    }
   ],
   "source": [
    "%whos"
   ]
  },
  {
   "cell_type": "markdown",
   "metadata": {
    "id": "9PYgKJk8kUco"
   },
   "source": [
    "## What-ifs: cell order, division"
   ]
  },
  {
   "cell_type": "code",
   "execution_count": 19,
   "metadata": {
    "id": "vWVvkOwLkUco"
   },
   "outputs": [
    {
     "data": {
      "text/plain": [
       "0.6"
      ]
     },
     "execution_count": 19,
     "metadata": {},
     "output_type": "execute_result"
    }
   ],
   "source": [
    "# dynamic type conversion\n",
    "# ints -> float\n",
    "x/y"
   ]
  },
  {
   "cell_type": "code",
   "execution_count": 20,
   "metadata": {
    "id": "Bldv0fjhkUco"
   },
   "outputs": [
    {
     "data": {
      "text/plain": [
       "0"
      ]
     },
     "execution_count": 20,
     "metadata": {},
     "output_type": "execute_result"
    }
   ],
   "source": [
    "# integer division\n",
    "x//y"
   ]
  },
  {
   "cell_type": "code",
   "execution_count": 21,
   "metadata": {
    "id": "1nGdvzz0kUco"
   },
   "outputs": [
    {
     "data": {
      "text/plain": [
       "0"
      ]
     },
     "execution_count": 21,
     "metadata": {},
     "output_type": "execute_result"
    }
   ],
   "source": [
    "999//1000"
   ]
  },
  {
   "cell_type": "code",
   "execution_count": 22,
   "metadata": {
    "id": "2Xe5oyBEkUco"
   },
   "outputs": [
    {
     "data": {
      "text/plain": [
       "499"
      ]
     },
     "execution_count": 22,
     "metadata": {},
     "output_type": "execute_result"
    }
   ],
   "source": [
    "# modulo\n",
    "# returns the remainder following division\n",
    "999%500"
   ]
  },
  {
   "cell_type": "markdown",
   "metadata": {
    "id": "TbgbHtZykUco"
   },
   "source": [
    "Try running the **first** `%whos` cell again. What's the output?\n",
    "\n",
    "Note that you can execute code cells out of the order in which they are written. This will return the result of running that code *on the current contents of the environment*, not the environment as it existed (or would exist) had you run all the cells in order.\n",
    "\n",
    "Out-of-order cell execution is *really* convenient when you're developing your code. It lets you experiment and easily observe the effects of small changes. But it can also get you in trouble, because you might be operating on data (or using functions) that are inconsistent with what a straight read of the code would suggest. If you run into notably insoluable problems in your notebook, you might try selecting Kernel -> Restart Kernel and Run All Cells ... from the menu. This will guarantee that the machine state matches the visible order of execution."
   ]
  },
  {
   "cell_type": "code",
   "execution_count": 23,
   "metadata": {},
   "outputs": [
    {
     "name": "stdout",
     "output_type": "stream",
     "text": [
      "Variable    Type      Data/Info\n",
      "-------------------------------\n",
      "book_dict   dict      n=4\n",
      "i           int       2\n",
      "time        module    <module 'time' (built-in)>\n",
      "x           int       3\n",
      "y           int       5\n"
     ]
    }
   ],
   "source": [
    "%whos"
   ]
  },
  {
   "cell_type": "markdown",
   "metadata": {
    "id": "fcr7uuAzkUcp"
   },
   "source": [
    "## Operating on lists"
   ]
  },
  {
   "cell_type": "code",
   "execution_count": 24,
   "metadata": {},
   "outputs": [
    {
     "data": {
      "text/plain": [
       "{'author': ['Shakespeare', 'Morrison', 'Bolaño'],\n",
       " 'title': ['King Lear', 'Beloved', '2666'],\n",
       " 'year': [1606, 1987, 2004],\n",
       " 'words': [10000, 100000, 300000]}"
      ]
     },
     "execution_count": 24,
     "metadata": {},
     "output_type": "execute_result"
    }
   ],
   "source": [
    "book_dict"
   ]
  },
  {
   "cell_type": "code",
   "execution_count": 25,
   "metadata": {
    "id": "rvhSjweKkUcp"
   },
   "outputs": [],
   "source": [
    "# Python lists can contain arbitrary types\n",
    "python_list_int = [1, 2, 3]\n",
    "python_list_mix = [1, 'g', (3.7, 2)]"
   ]
  },
  {
   "cell_type": "code",
   "execution_count": 26,
   "metadata": {
    "id": "z3AjOK3ekUcp",
    "outputId": "e55529b6-8a0e-4a55-db23-bf88e0fb17f6"
   },
   "outputs": [
    {
     "data": {
      "text/plain": [
       "[1, 'g', (3.7, 2), 1, 'g', (3.7, 2), 1, 'g', (3.7, 2)]"
      ]
     },
     "execution_count": 26,
     "metadata": {},
     "output_type": "execute_result"
    }
   ],
   "source": [
    "# multiply a list by an int\n",
    "python_list_mix * 3"
   ]
  },
  {
   "cell_type": "code",
   "execution_count": 27,
   "metadata": {
    "id": "SJtOARMxkUcp",
    "outputId": "b0601e7d-a48a-41c2-e4bb-c5f110af69e5"
   },
   "outputs": [
    {
     "data": {
      "text/plain": [
       "[1, 2, 3, 1, 2, 3, 1, 2, 3]"
      ]
     },
     "execution_count": 27,
     "metadata": {},
     "output_type": "execute_result"
    }
   ],
   "source": [
    "# multiply a list by an int\n",
    "python_list_int * 3"
   ]
  },
  {
   "cell_type": "code",
   "execution_count": 28,
   "metadata": {
    "id": "OANZ86JJkUcp",
    "outputId": "5157819c-a033-4e08-f9a7-7fab9067ea39"
   },
   "outputs": [
    {
     "data": {
      "text/plain": [
       "[3, 6, 9]"
      ]
     },
     "execution_count": 28,
     "metadata": {},
     "output_type": "execute_result"
    }
   ],
   "source": [
    "# for loop\n",
    "result = []\n",
    "for i in python_list_int:\n",
    "    result.append(i*3)\n",
    "result"
   ]
  },
  {
   "cell_type": "markdown",
   "metadata": {
    "id": "ZhfEMQjZkUcq"
   },
   "source": [
    "A **list comprehension** is a neat one-liner to replace an explicit `for` loop."
   ]
  },
  {
   "cell_type": "code",
   "execution_count": 29,
   "metadata": {
    "id": "pJAblJkRkUcq",
    "outputId": "5bd0893b-aa59-49d8-d23e-602d0cc6222d"
   },
   "outputs": [
    {
     "data": {
      "text/plain": [
       "[3, 6, 9]"
      ]
     },
     "execution_count": 29,
     "metadata": {},
     "output_type": "execute_result"
    }
   ],
   "source": [
    "# list comprehension\n",
    "[i*3 for i in python_list_int]"
   ]
  },
  {
   "cell_type": "markdown",
   "metadata": {},
   "source": [
    "## NumPy\n",
    "\n",
    "NumPy (or numpy, because lazy) is a library for optimized mathematical operations in Python. We'll use it on occasion (it's fast and sometimes very convenient, especially for matrix operations), though we'll lean more heavily on Pandas (see below), which generally wraps Numpy in a lot of syntactic convenience."
   ]
  },
  {
   "cell_type": "code",
   "execution_count": 30,
   "metadata": {
    "id": "texplIjTkUcq",
    "outputId": "3ab7a0bc-b0e4-40cd-a5b7-7d1d7df47787"
   },
   "outputs": [
    {
     "data": {
      "text/plain": [
       "array([1, 2, 3])"
      ]
     },
     "execution_count": 30,
     "metadata": {},
     "output_type": "execute_result"
    }
   ],
   "source": [
    "import numpy as np\n",
    "numpy_array = np.array([1, 2, 3])\n",
    "numpy_array"
   ]
  },
  {
   "cell_type": "code",
   "execution_count": 31,
   "metadata": {
    "id": "U9jxaWDPkUcq",
    "outputId": "35a52972-a942-4046-c2d4-1bc86e50be72"
   },
   "outputs": [
    {
     "data": {
      "text/plain": [
       "numpy.ndarray"
      ]
     },
     "execution_count": 31,
     "metadata": {},
     "output_type": "execute_result"
    }
   ],
   "source": [
    "type(numpy_array)"
   ]
  },
  {
   "cell_type": "code",
   "execution_count": 32,
   "metadata": {
    "id": "Sy3CrralkUcq",
    "outputId": "6788781e-de50-4cd2-cc09-cb99ac8d9667"
   },
   "outputs": [
    {
     "data": {
      "text/plain": [
       "1"
      ]
     },
     "execution_count": 32,
     "metadata": {},
     "output_type": "execute_result"
    }
   ],
   "source": [
    "numpy_array[0]"
   ]
  },
  {
   "cell_type": "markdown",
   "metadata": {},
   "source": [
    "A Numpy array is similar to a list (ordered, iterable), but it's optimized for math. Numpy arrays are computable objects, on which we can perform *vectorized*, *broadcast* operations (one operation is performed on every element of the input array)."
   ]
  },
  {
   "cell_type": "code",
   "execution_count": 33,
   "metadata": {
    "id": "JBlkjy_6kUcq",
    "outputId": "b8af8256-2a93-46f3-b3c7-189d8b15d348"
   },
   "outputs": [
    {
     "data": {
      "text/plain": [
       "array([1000000, 2000000, 3000000])"
      ]
     },
     "execution_count": 33,
     "metadata": {},
     "output_type": "execute_result"
    }
   ],
   "source": [
    "# array * int\n",
    "numpy_array * 1000000"
   ]
  },
  {
   "cell_type": "markdown",
   "metadata": {
    "id": "cN3L2IRRkUcq"
   },
   "source": [
    "Two important differences between numpy arrays and Python lists, from the [docs](https://numpy.org/doc/stable/user/whatisnumpy.html):\n",
    "\n",
    "> * NumPy arrays have a fixed size at creation, unlike Python lists (which can grow dynamically). **Changing the size of an ndarray will create a new array and delete the original.** \n",
    "    * [Note: This means that *appending* to numpy arrays is generally *very* slow. *Modifying* the elements of an array without changing its length is fast. You really want to preallocate your numpy arrays.]\n",
    "> * The elements in a NumPy array are all required to be of the same data type, and thus will be the same size in memory. The exception: one can have arrays of (Python, including NumPy) objects, thereby allowing for arrays of different sized elements."
   ]
  },
  {
   "cell_type": "markdown",
   "metadata": {
    "id": "9MromUa9kUcr"
   },
   "source": [
    "It would be nice to have the speed of numpy with an overlay of convenience. So ... Pandas!"
   ]
  },
  {
   "cell_type": "markdown",
   "metadata": {
    "id": "6r7YB3_1kUcr"
   },
   "source": [
    "You can pre-allocate a numpy array using `zeros`, `ones`, `empty`, or one of a few other numpy functions."
   ]
  },
  {
   "cell_type": "code",
   "execution_count": 34,
   "metadata": {
    "id": "c8AL8mAfkUcr",
    "outputId": "913ac783-b436-44cc-90f6-e2b05e33b55b"
   },
   "outputs": [
    {
     "data": {
      "text/plain": [
       "array([0., 0., 0., 0., 0.])"
      ]
     },
     "execution_count": 34,
     "metadata": {},
     "output_type": "execute_result"
    }
   ],
   "source": [
    "# allocate an array\n",
    "np.zeros(5)"
   ]
  },
  {
   "cell_type": "code",
   "execution_count": 35,
   "metadata": {
    "id": "zZSEiHDjkUcr"
   },
   "outputs": [
    {
     "data": {
      "text/plain": [
       "array([100.,   0.,   0.,   0.,   0.])"
      ]
     },
     "execution_count": 35,
     "metadata": {},
     "output_type": "execute_result"
    }
   ],
   "source": [
    "# allocate an array, then set an element to a value\n",
    "data_array = np.zeros(5)\n",
    "data_array[0] = 100\n",
    "data_array"
   ]
  },
  {
   "cell_type": "code",
   "execution_count": null,
   "metadata": {},
   "outputs": [],
   "source": []
  }
 ],
 "metadata": {
  "colab": {
   "name": "02-10-code.ipynb",
   "provenance": []
  },
  "kernelspec": {
   "display_name": "Python 3 (ipykernel)",
   "language": "python",
   "name": "python3"
  },
  "language_info": {
   "codemirror_mode": {
    "name": "ipython",
    "version": 3
   },
   "file_extension": ".py",
   "mimetype": "text/x-python",
   "name": "python",
   "nbconvert_exporter": "python",
   "pygments_lexer": "ipython3",
   "version": "3.9.7"
  }
 },
 "nbformat": 4,
 "nbformat_minor": 4
}

{
 "cells": [
  {
   "cell_type": "markdown",
   "metadata": {},
   "source": [
    "# INFO 3350/6350\n",
    "\n",
    "## Lecture 01: Introduction\n",
    "\n",
    "**Welcome to Information Science 3350 and 6350: Text Mining for History and Literature.**\n",
    "\n",
    "## Cameras on, please\n",
    "\n",
    "## Overview\n",
    "\n",
    "* What is this class about?\n",
    "  * Machine learning\n",
    "  * Humanities, especially literary history\n",
    "  * The intersection of those domains, i.e, digital humanities, cultural analytics\n",
    "* Who is it for?\n",
    "  * Who might *not* want to take this class?\n",
    "\n",
    "## Review the syllabus\n",
    "\n",
    "Some quality time with the course GitHub repo ...\n",
    "\n",
    "## Introduce staff\n",
    "\n",
    "* Prof. Matthew Wilkens\n",
    "* PhD TAs: Rosamond Thalken and Federica Bologna\n",
    "* Undergrad TAs: Steven Chen, Naba Deyab, Isabel Frank, Zilu Li, Lindsey Luo, Daniel Riley, Aishwarya Singh, Ray Wang\n",
    "\n",
    "## How to ask good questions ...\n",
    "\n",
    "* More info, carefully curated, is better than less info\n",
    "  * What homework? What code? **What are you trying to do?** What output did you get? What did you expect to happen? What error message? Where does the data live? What did you try? What does the documentation say? ...\n",
    "  * Craft a **minimal example** demonstrating the problem (this often helps you solve a it on your own)\n",
    "* Remember that TAs (and even professors) are human\n",
    "  * They want to help. **Respect, gratitude, and patience** go a long way.\n",
    "  * Evidence that you've made an earnest attempt to **solve the problem on your own** also goes a long way.\n",
    "\n",
    "## ... and where to ask those questions\n",
    "\n",
    "* It's 3am and my code won't work -> Maybe sleep on it?\n",
    "* It's 9am and my code won't work -> Ed, office hours\n",
    "* It's the next day and no one can figure it out -> Office hours (grad)\n",
    "* I'm looking for project/HW partners -> Ed, lecture, [Learning Strategies Center](https://lsc.cornell.edu/)\n",
    "* I have a course admin issue (switch sections, access CMS, etc.) -> Ed private message, grad OH\n",
    "* I'm thinking about grad school -> Office hours (grad, Prof. Wilkens)\n",
    "* I have questions about the major, future classes, or careers -> Prof. Wilkens OH\n",
    "* I'm really struggling (in the class, in general) -> Any staff, any time\n",
    "\n",
    "A few notes on Ed:\n",
    "\n",
    "* You may post anonymously (to other students), but staff can always see your name\n",
    "* Modest extra credit for high-quality participation on Ed, especially answering (correctly) other student's questions\n",
    "* Staff wait 24 hours to respond (by policy) unless the matter is urgent\n",
    "  * Homework due tomorrow is not urgent\n",
    "\n",
    "When in doubt -> Ed! Always open, async, monitored by staff, extra credit.\n",
    "\n",
    "## Poll: Graduate section\n",
    "\n",
    "Grad students enrolled in 6350 take part in the regular Friday section meetings. They will **also** have an additional meeting each week to discuss research and advanced topics. If you are enrolled in 6350, please fill out the poll launching ... now."
   ]
  },
  {
   "cell_type": "code",
   "execution_count": null,
   "metadata": {},
   "outputs": [],
   "source": []
  }
 ],
 "metadata": {
  "kernelspec": {
   "display_name": "Python 3 (ipykernel)",
   "language": "python",
   "name": "python3"
  },
  "language_info": {
   "codemirror_mode": {
    "name": "ipython",
    "version": 3
   },
   "file_extension": ".py",
   "mimetype": "text/x-python",
   "name": "python",
   "nbconvert_exporter": "python",
   "pygments_lexer": "ipython3",
   "version": "3.9.7"
  }
 },
 "nbformat": 4,
 "nbformat_minor": 4
}
